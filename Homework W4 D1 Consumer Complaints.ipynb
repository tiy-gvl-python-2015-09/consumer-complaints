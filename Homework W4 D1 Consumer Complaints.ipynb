{
 "cells": [
  {
   "cell_type": "code",
   "execution_count": 1,
   "metadata": {
    "collapsed": true
   },
   "outputs": [],
   "source": [
    "#Calculate and chart:\n",
    "#Number of complaints by product (Product)\n",
    "#Number of complaints by company (top 10 companies only) (Company)\n",
    "#Number of complaints by company response\n",
    "#Mean number of complaints by day of week\n",
    "#Any other insights you find interesting"
   ]
  },
  {
   "cell_type": "code",
   "execution_count": 2,
   "metadata": {
    "collapsed": true
   },
   "outputs": [],
   "source": [
    "import pandas as pd\n",
    "import numpy as np\n",
    "import matplotlib.pyplot as plt"
   ]
  },
  {
   "cell_type": "code",
   "execution_count": 3,
   "metadata": {
    "collapsed": true
   },
   "outputs": [],
   "source": [
    "%matplotlib inline"
   ]
  },
  {
   "cell_type": "code",
   "execution_count": 4,
   "metadata": {
    "collapsed": false
   },
   "outputs": [
    {
     "data": {
      "text/html": [
       "<div>\n",
       "<table border=\"1\" class=\"dataframe\">\n",
       "  <thead>\n",
       "    <tr style=\"text-align: right;\">\n",
       "      <th></th>\n",
       "      <th>Complaint ID</th>\n",
       "      <th>Product</th>\n",
       "      <th>Sub-product</th>\n",
       "      <th>Issue</th>\n",
       "      <th>Sub-issue</th>\n",
       "      <th>State</th>\n",
       "      <th>ZIP code</th>\n",
       "      <th>Submitted via</th>\n",
       "      <th>Date received</th>\n",
       "      <th>Date sent to company</th>\n",
       "      <th>Company</th>\n",
       "      <th>Company response</th>\n",
       "      <th>Timely response?</th>\n",
       "      <th>Consumer disputed?</th>\n",
       "    </tr>\n",
       "  </thead>\n",
       "  <tbody>\n",
       "    <tr>\n",
       "      <th>0</th>\n",
       "      <td>1177167</td>\n",
       "      <td>Debt collection</td>\n",
       "      <td>NaN</td>\n",
       "      <td>Cont'd attempts collect debt not owed</td>\n",
       "      <td>Debt is not mine</td>\n",
       "      <td>TX</td>\n",
       "      <td>77068</td>\n",
       "      <td>Web</td>\n",
       "      <td>12/31/2014</td>\n",
       "      <td>12/31/2014</td>\n",
       "      <td>Ad Astra Recovery Services Inc</td>\n",
       "      <td>Closed with explanation</td>\n",
       "      <td>Yes</td>\n",
       "      <td>NaN</td>\n",
       "    </tr>\n",
       "    <tr>\n",
       "      <th>1</th>\n",
       "      <td>1177166</td>\n",
       "      <td>Debt collection</td>\n",
       "      <td>NaN</td>\n",
       "      <td>Cont'd attempts collect debt not owed</td>\n",
       "      <td>Debt is not mine</td>\n",
       "      <td>TX</td>\n",
       "      <td>77068</td>\n",
       "      <td>Web</td>\n",
       "      <td>12/31/2014</td>\n",
       "      <td>12/31/2014</td>\n",
       "      <td>Unique Management Services, Inc</td>\n",
       "      <td>Closed with explanation</td>\n",
       "      <td>Yes</td>\n",
       "      <td>NaN</td>\n",
       "    </tr>\n",
       "    <tr>\n",
       "      <th>2</th>\n",
       "      <td>1177165</td>\n",
       "      <td>Debt collection</td>\n",
       "      <td>NaN</td>\n",
       "      <td>Cont'd attempts collect debt not owed</td>\n",
       "      <td>Debt is not mine</td>\n",
       "      <td>TX</td>\n",
       "      <td>77068</td>\n",
       "      <td>Web</td>\n",
       "      <td>12/31/2014</td>\n",
       "      <td>12/31/2014</td>\n",
       "      <td>CL Holdings, LLC</td>\n",
       "      <td>Closed with monetary relief</td>\n",
       "      <td>Yes</td>\n",
       "      <td>NaN</td>\n",
       "    </tr>\n",
       "    <tr>\n",
       "      <th>3</th>\n",
       "      <td>1177164</td>\n",
       "      <td>Debt collection</td>\n",
       "      <td>NaN</td>\n",
       "      <td>Cont'd attempts collect debt not owed</td>\n",
       "      <td>Debt is not mine</td>\n",
       "      <td>TX</td>\n",
       "      <td>77068</td>\n",
       "      <td>Web</td>\n",
       "      <td>12/31/2014</td>\n",
       "      <td>12/31/2014</td>\n",
       "      <td>Enhanced Recovery Company, LLC</td>\n",
       "      <td>Closed with non-monetary relief</td>\n",
       "      <td>Yes</td>\n",
       "      <td>NaN</td>\n",
       "    </tr>\n",
       "    <tr>\n",
       "      <th>4</th>\n",
       "      <td>1177163</td>\n",
       "      <td>Debt collection</td>\n",
       "      <td>NaN</td>\n",
       "      <td>Cont'd attempts collect debt not owed</td>\n",
       "      <td>Debt is not mine</td>\n",
       "      <td>TX</td>\n",
       "      <td>77068</td>\n",
       "      <td>Web</td>\n",
       "      <td>12/31/2014</td>\n",
       "      <td>12/31/2014</td>\n",
       "      <td>Enhanced Acquisitions, LLC</td>\n",
       "      <td>Closed with explanation</td>\n",
       "      <td>Yes</td>\n",
       "      <td>NaN</td>\n",
       "    </tr>\n",
       "  </tbody>\n",
       "</table>\n",
       "</div>"
      ],
      "text/plain": [
       "   Complaint ID          Product Sub-product  \\\n",
       "0       1177167  Debt collection         NaN   \n",
       "1       1177166  Debt collection         NaN   \n",
       "2       1177165  Debt collection         NaN   \n",
       "3       1177164  Debt collection         NaN   \n",
       "4       1177163  Debt collection         NaN   \n",
       "\n",
       "                                   Issue         Sub-issue State  ZIP code  \\\n",
       "0  Cont'd attempts collect debt not owed  Debt is not mine    TX     77068   \n",
       "1  Cont'd attempts collect debt not owed  Debt is not mine    TX     77068   \n",
       "2  Cont'd attempts collect debt not owed  Debt is not mine    TX     77068   \n",
       "3  Cont'd attempts collect debt not owed  Debt is not mine    TX     77068   \n",
       "4  Cont'd attempts collect debt not owed  Debt is not mine    TX     77068   \n",
       "\n",
       "  Submitted via Date received Date sent to company  \\\n",
       "0           Web    12/31/2014           12/31/2014   \n",
       "1           Web    12/31/2014           12/31/2014   \n",
       "2           Web    12/31/2014           12/31/2014   \n",
       "3           Web    12/31/2014           12/31/2014   \n",
       "4           Web    12/31/2014           12/31/2014   \n",
       "\n",
       "                           Company                 Company response  \\\n",
       "0   Ad Astra Recovery Services Inc          Closed with explanation   \n",
       "1  Unique Management Services, Inc          Closed with explanation   \n",
       "2                 CL Holdings, LLC      Closed with monetary relief   \n",
       "3   Enhanced Recovery Company, LLC  Closed with non-monetary relief   \n",
       "4       Enhanced Acquisitions, LLC          Closed with explanation   \n",
       "\n",
       "  Timely response? Consumer disputed?  \n",
       "0              Yes                NaN  \n",
       "1              Yes                NaN  \n",
       "2              Yes                NaN  \n",
       "3              Yes                NaN  \n",
       "4              Yes                NaN  "
      ]
     },
     "execution_count": 4,
     "metadata": {},
     "output_type": "execute_result"
    }
   ],
   "source": [
    "dec_complaints = pd.read_csv(\"complaints_dec_2014.csv\")\n",
    "dec_complaints.head()"
   ]
  },
  {
   "cell_type": "code",
   "execution_count": 9,
   "metadata": {
    "collapsed": false
   },
   "outputs": [],
   "source": [
    "compl_by_prod = dec_complaints[\"Product\"].value_counts()"
   ]
  },
  {
   "cell_type": "code",
   "execution_count": 85,
   "metadata": {
    "collapsed": false
   },
   "outputs": [
    {
     "data": {
      "image/png": "[encoded data removed]",
      "text/plain": [
       "<matplotlib.figure.Figure at 0x10c8197b8>"
      ]
     },
     "metadata": {},
     "output_type": "display_data"
    }
   ],
   "source": [
    "compl_by_prod.plot(figsize=(8, 5), kind=\"bar\", title=\"Complaints by Product\")\n",
    "plt.show()"
   ]
  },
  {
   "cell_type": "markdown",
   "metadata": {},
   "source": [
    "For the number of complaints by product, 'mortgage' has a small lead on 'debt collection' for December 2014, followed by 'credit reporting' and then 'bank account or service' just about tied with 'credit card' to round out the top five. Perhaps what is most striking about these numbers is how many more complaints there were about 'mortgage' and 'debt collection' compared to the other products - nearly 1000 more complaints than 'credit reporting' in third and almost triple the number of complaints compared to fourth and fifth."
   ]
  },
  {
   "cell_type": "code",
   "execution_count": 12,
   "metadata": {
    "collapsed": false
   },
   "outputs": [],
   "source": [
    "compl_by_comp = dec_complaints[\"Company\"].value_counts()"
   ]
  },
  {
   "cell_type": "code",
   "execution_count": 82,
   "metadata": {
    "collapsed": false
   },
   "outputs": [
    {
     "data": {
      "image/png": "[encoded data removed]",
      "text/plain": [
       "<matplotlib.figure.Figure at 0x10b535518>"
      ]
     },
     "metadata": {},
     "output_type": "display_data"
    }
   ],
   "source": [
    "compl_by_comp.head(10).plot(figsize=(8, 5), kind=\"bar\", title=\"Complaints by Company\")\n",
    "plt.show()"
   ]
  },
  {
   "cell_type": "markdown",
   "metadata": {},
   "source": [
    "The differences aren't as great when comparing complaints by company as they were when looking at complaints by product. The dropoff from one company to the next is not so large. Bank of America holds down the number one spot with the most complaints, nearly 800. The three credit reporting agencies follow, with Wells Fargo at number five. This matches the above data on product complaints, as BofA is one of the largest mortgage providers along with Wells Fargo, and the credit reporting agencies obviously would have complaints about credit reporting and could also potentially be related to the debt collection numbers."
   ]
  },
  {
   "cell_type": "code",
   "execution_count": 14,
   "metadata": {
    "collapsed": true
   },
   "outputs": [],
   "source": [
    "compl_by_resp = dec_complaints[\"Company response\"].value_counts()"
   ]
  },
  {
   "cell_type": "code",
   "execution_count": 83,
   "metadata": {
    "collapsed": false
   },
   "outputs": [
    {
     "data": {
      "image/png": "[encoded data removed]",
      "text/plain": [
       "<matplotlib.figure.Figure at 0x10b4ef438>"
      ]
     },
     "metadata": {},
     "output_type": "display_data"
    }
   ],
   "source": [
    "compl_by_resp.plot(figsize=(8, 5), kind=\"bar\", title=\"Complaints by Company Response\")\n",
    "plt.show()"
   ]
  },
  {
   "cell_type": "markdown",
   "metadata": {},
   "source": [
    "These numbers aren't even close. By far, most complaints are closed with some explanation from the company, while the sum of the other responses together doesn't even reach half that number. It would appear that getting any kind of relief from a company, whether financial or not, is a long shot."
   ]
  },
  {
   "cell_type": "code",
   "execution_count": 16,
   "metadata": {
    "collapsed": false
   },
   "outputs": [],
   "source": [
    "dec_complaints[\"Date received\"] = pd.to_datetime(dec_complaints[\"Date received\"])"
   ]
  },
  {
   "cell_type": "code",
   "execution_count": 17,
   "metadata": {
    "collapsed": false
   },
   "outputs": [],
   "source": [
    "dec_complaints[\"Day of week\"] = dec_complaints[\"Date received\"].dt.dayofweek"
   ]
  },
  {
   "cell_type": "code",
   "execution_count": 39,
   "metadata": {
    "collapsed": false
   },
   "outputs": [
    {
     "data": {
      "text/html": [
       "<div>\n",
       "<table border=\"1\" class=\"dataframe\">\n",
       "  <thead>\n",
       "    <tr style=\"text-align: right;\">\n",
       "      <th></th>\n",
       "      <th>Complaint ID</th>\n",
       "      <th>Product</th>\n",
       "      <th>Sub-product</th>\n",
       "      <th>Issue</th>\n",
       "      <th>Sub-issue</th>\n",
       "      <th>State</th>\n",
       "      <th>ZIP code</th>\n",
       "      <th>Submitted via</th>\n",
       "      <th>Date received</th>\n",
       "      <th>Date sent to company</th>\n",
       "      <th>Company</th>\n",
       "      <th>Company response</th>\n",
       "      <th>Timely response?</th>\n",
       "      <th>Consumer disputed?</th>\n",
       "      <th>Day of week</th>\n",
       "    </tr>\n",
       "  </thead>\n",
       "  <tbody>\n",
       "    <tr>\n",
       "      <th>0</th>\n",
       "      <td>1177167</td>\n",
       "      <td>Debt collection</td>\n",
       "      <td>NaN</td>\n",
       "      <td>Cont'd attempts collect debt not owed</td>\n",
       "      <td>Debt is not mine</td>\n",
       "      <td>TX</td>\n",
       "      <td>77068</td>\n",
       "      <td>Web</td>\n",
       "      <td>2014-12-31</td>\n",
       "      <td>12/31/2014</td>\n",
       "      <td>Ad Astra Recovery Services Inc</td>\n",
       "      <td>Closed with explanation</td>\n",
       "      <td>Yes</td>\n",
       "      <td>NaN</td>\n",
       "      <td>2</td>\n",
       "    </tr>\n",
       "    <tr>\n",
       "      <th>1</th>\n",
       "      <td>1177166</td>\n",
       "      <td>Debt collection</td>\n",
       "      <td>NaN</td>\n",
       "      <td>Cont'd attempts collect debt not owed</td>\n",
       "      <td>Debt is not mine</td>\n",
       "      <td>TX</td>\n",
       "      <td>77068</td>\n",
       "      <td>Web</td>\n",
       "      <td>2014-12-31</td>\n",
       "      <td>12/31/2014</td>\n",
       "      <td>Unique Management Services, Inc</td>\n",
       "      <td>Closed with explanation</td>\n",
       "      <td>Yes</td>\n",
       "      <td>NaN</td>\n",
       "      <td>2</td>\n",
       "    </tr>\n",
       "    <tr>\n",
       "      <th>2</th>\n",
       "      <td>1177165</td>\n",
       "      <td>Debt collection</td>\n",
       "      <td>NaN</td>\n",
       "      <td>Cont'd attempts collect debt not owed</td>\n",
       "      <td>Debt is not mine</td>\n",
       "      <td>TX</td>\n",
       "      <td>77068</td>\n",
       "      <td>Web</td>\n",
       "      <td>2014-12-31</td>\n",
       "      <td>12/31/2014</td>\n",
       "      <td>CL Holdings, LLC</td>\n",
       "      <td>Closed with monetary relief</td>\n",
       "      <td>Yes</td>\n",
       "      <td>NaN</td>\n",
       "      <td>2</td>\n",
       "    </tr>\n",
       "    <tr>\n",
       "      <th>3</th>\n",
       "      <td>1177164</td>\n",
       "      <td>Debt collection</td>\n",
       "      <td>NaN</td>\n",
       "      <td>Cont'd attempts collect debt not owed</td>\n",
       "      <td>Debt is not mine</td>\n",
       "      <td>TX</td>\n",
       "      <td>77068</td>\n",
       "      <td>Web</td>\n",
       "      <td>2014-12-31</td>\n",
       "      <td>12/31/2014</td>\n",
       "      <td>Enhanced Recovery Company, LLC</td>\n",
       "      <td>Closed with non-monetary relief</td>\n",
       "      <td>Yes</td>\n",
       "      <td>NaN</td>\n",
       "      <td>2</td>\n",
       "    </tr>\n",
       "    <tr>\n",
       "      <th>4</th>\n",
       "      <td>1177163</td>\n",
       "      <td>Debt collection</td>\n",
       "      <td>NaN</td>\n",
       "      <td>Cont'd attempts collect debt not owed</td>\n",
       "      <td>Debt is not mine</td>\n",
       "      <td>TX</td>\n",
       "      <td>77068</td>\n",
       "      <td>Web</td>\n",
       "      <td>2014-12-31</td>\n",
       "      <td>12/31/2014</td>\n",
       "      <td>Enhanced Acquisitions, LLC</td>\n",
       "      <td>Closed with explanation</td>\n",
       "      <td>Yes</td>\n",
       "      <td>NaN</td>\n",
       "      <td>2</td>\n",
       "    </tr>\n",
       "  </tbody>\n",
       "</table>\n",
       "</div>"
      ],
      "text/plain": [
       "   Complaint ID          Product Sub-product  \\\n",
       "0       1177167  Debt collection         NaN   \n",
       "1       1177166  Debt collection         NaN   \n",
       "2       1177165  Debt collection         NaN   \n",
       "3       1177164  Debt collection         NaN   \n",
       "4       1177163  Debt collection         NaN   \n",
       "\n",
       "                                   Issue         Sub-issue State  ZIP code  \\\n",
       "0  Cont'd attempts collect debt not owed  Debt is not mine    TX     77068   \n",
       "1  Cont'd attempts collect debt not owed  Debt is not mine    TX     77068   \n",
       "2  Cont'd attempts collect debt not owed  Debt is not mine    TX     77068   \n",
       "3  Cont'd attempts collect debt not owed  Debt is not mine    TX     77068   \n",
       "4  Cont'd attempts collect debt not owed  Debt is not mine    TX     77068   \n",
       "\n",
       "  Submitted via Date received Date sent to company  \\\n",
       "0           Web    2014-12-31           12/31/2014   \n",
       "1           Web    2014-12-31           12/31/2014   \n",
       "2           Web    2014-12-31           12/31/2014   \n",
       "3           Web    2014-12-31           12/31/2014   \n",
       "4           Web    2014-12-31           12/31/2014   \n",
       "\n",
       "                           Company                 Company response  \\\n",
       "0   Ad Astra Recovery Services Inc          Closed with explanation   \n",
       "1  Unique Management Services, Inc          Closed with explanation   \n",
       "2                 CL Holdings, LLC      Closed with monetary relief   \n",
       "3   Enhanced Recovery Company, LLC  Closed with non-monetary relief   \n",
       "4       Enhanced Acquisitions, LLC          Closed with explanation   \n",
       "\n",
       "  Timely response? Consumer disputed?  Day of week  \n",
       "0              Yes                NaN            2  \n",
       "1              Yes                NaN            2  \n",
       "2              Yes                NaN            2  \n",
       "3              Yes                NaN            2  \n",
       "4              Yes                NaN            2  "
      ]
     },
     "execution_count": 39,
     "metadata": {},
     "output_type": "execute_result"
    }
   ],
   "source": [
    "dec_complaints.head()"
   ]
  },
  {
   "cell_type": "code",
   "execution_count": 26,
   "metadata": {
    "collapsed": false
   },
   "outputs": [],
   "source": [
    "dow_counts = dec_complaints[\"Day of week\"].value_counts()"
   ]
  },
  {
   "cell_type": "code",
   "execution_count": 27,
   "metadata": {
    "collapsed": false
   },
   "outputs": [
    {
     "data": {
      "text/plain": [
       "1    2580\n",
       "0    2544\n",
       "2    2289\n",
       "3    1634\n",
       "4    1446\n",
       "5     543\n",
       "6     507\n",
       "dtype: int64"
      ]
     },
     "execution_count": 27,
     "metadata": {},
     "output_type": "execute_result"
    }
   ],
   "source": [
    "dow_counts"
   ]
  },
  {
   "cell_type": "code",
   "execution_count": 60,
   "metadata": {
    "collapsed": true
   },
   "outputs": [],
   "source": [
    "dow_complaints = dec_complaints.set_index(\"Date received\")[\"Day of week\"]"
   ]
  },
  {
   "cell_type": "code",
   "execution_count": 61,
   "metadata": {
    "collapsed": false
   },
   "outputs": [],
   "source": [
    "dow_total = dec_complaints.groupby(\"Date received\").size()"
   ]
  },
  {
   "cell_type": "code",
   "execution_count": 41,
   "metadata": {
    "collapsed": false
   },
   "outputs": [],
   "source": [
    "dow_monday = dec_complaints[dec_complaints[\"Day of week\"] == 0]"
   ]
  },
  {
   "cell_type": "code",
   "execution_count": 44,
   "metadata": {
    "collapsed": false
   },
   "outputs": [],
   "source": [
    "dow_mon_count = dow_monday[\"Date received\"].value_counts()"
   ]
  },
  {
   "cell_type": "code",
   "execution_count": 45,
   "metadata": {
    "collapsed": false
   },
   "outputs": [
    {
     "data": {
      "text/plain": [
       "2014-12-22    537\n",
       "2014-12-29    532\n",
       "2014-12-08    526\n",
       "2014-12-15    475\n",
       "2014-12-01    474\n",
       "dtype: int64"
      ]
     },
     "execution_count": 45,
     "metadata": {},
     "output_type": "execute_result"
    }
   ],
   "source": [
    "dow_mon_count"
   ]
  },
  {
   "cell_type": "code",
   "execution_count": 47,
   "metadata": {
    "collapsed": false
   },
   "outputs": [],
   "source": [
    "avg_mon_compl = dow_mon_count.mean()"
   ]
  },
  {
   "cell_type": "code",
   "execution_count": 52,
   "metadata": {
    "collapsed": false
   },
   "outputs": [],
   "source": [
    "dow_tuesday = dec_complaints[dec_complaints[\"Day of week\"] == 1]"
   ]
  },
  {
   "cell_type": "code",
   "execution_count": 53,
   "metadata": {
    "collapsed": true
   },
   "outputs": [],
   "source": [
    "dow_tues_count = dow_tuesday[\"Date received\"].value_counts()"
   ]
  },
  {
   "cell_type": "code",
   "execution_count": 54,
   "metadata": {
    "collapsed": true
   },
   "outputs": [],
   "source": [
    "avg_tues_compl = dow_tues_count.mean()"
   ]
  },
  {
   "cell_type": "code",
   "execution_count": 65,
   "metadata": {
    "collapsed": false
   },
   "outputs": [],
   "source": [
    "dow_wednesday = dec_complaints[dec_complaints[\"Day of week\"] == 2]\n",
    "dow_wed_count = dow_wednesday[\"Date received\"].value_counts()\n",
    "avg_wed_compl = dow_wed_count.mean()"
   ]
  },
  {
   "cell_type": "code",
   "execution_count": 66,
   "metadata": {
    "collapsed": true
   },
   "outputs": [],
   "source": [
    "dow_thursday = dec_complaints[dec_complaints[\"Day of week\"] == 3]\n",
    "dow_thurs_count = dow_thursday[\"Date received\"].value_counts()\n",
    "avg_thurs_compl = dow_thurs_count.mean()"
   ]
  },
  {
   "cell_type": "code",
   "execution_count": 67,
   "metadata": {
    "collapsed": true
   },
   "outputs": [],
   "source": [
    "dow_friday = dec_complaints[dec_complaints[\"Day of week\"] == 4]\n",
    "dow_fri_count = dow_friday[\"Date received\"].value_counts()\n",
    "avg_fri_compl = dow_fri_count.mean()"
   ]
  },
  {
   "cell_type": "code",
   "execution_count": 68,
   "metadata": {
    "collapsed": true
   },
   "outputs": [],
   "source": [
    "dow_saturday = dec_complaints[dec_complaints[\"Day of week\"] == 5]\n",
    "dow_sat_count = dow_saturday[\"Date received\"].value_counts()\n",
    "avg_sat_compl = dow_sat_count.mean()"
   ]
  },
  {
   "cell_type": "code",
   "execution_count": 69,
   "metadata": {
    "collapsed": true
   },
   "outputs": [],
   "source": [
    "dow_sunday = dec_complaints[dec_complaints[\"Day of week\"] == 6]\n",
    "dow_sun_count = dow_sunday[\"Date received\"].value_counts()\n",
    "avg_sun_compl = dow_sun_count.mean()"
   ]
  },
  {
   "cell_type": "code",
   "execution_count": 79,
   "metadata": {
    "collapsed": false
   },
   "outputs": [
    {
     "data": {
      "image/png": "[encoded data removed]",
      "text/plain": [
       "<matplotlib.figure.Figure at 0x10c8414a8>"
      ]
     },
     "metadata": {},
     "output_type": "display_data"
    }
   ],
   "source": [
    "x = [\"Monday\", \"Tuesday\", \"Wednesday\", \"Thursday\", \"Friday\", \"Saturday\", \"Sunday\"]\n",
    "y = [avg_mon_compl, avg_tues_compl, avg_wed_compl, avg_thurs_compl, avg_fri_compl, avg_sat_compl, avg_sun_compl]\n",
    "fig = plt.figure(figsize=(8, 5))\n",
    "plt.bar(range(len(y)), y, align=\"center\")\n",
    "plt.xticks(range(len(y)), x)\n",
    "plt.title(\"Average Number of Complaints by Weekday\")\n",
    "plt.show()"
   ]
  },
  {
   "cell_type": "markdown",
   "metadata": {},
   "source": [
    "This is the average number of complaints on any particular weekday from December 2014 (not the total number). Tuesday is the day of the week with the most complaints on average, followed closely by Monday. Apparently people want to get it done early in the week. All I have at this point is speculation as to why that is - maybe they've taken the weekend to organize their finances and go through mail and Monday is the first day they can register a complaint. Perhaps they've received a phone call on Monday so they register a complaint on Tuesday. These are only guesses."
   ]
  },
  {
   "cell_type": "code",
   "execution_count": 90,
   "metadata": {
    "collapsed": false
   },
   "outputs": [
    {
     "data": {
      "text/plain": [
       "Yes    1932\n",
       "dtype: int64"
      ]
     },
     "execution_count": 90,
     "metadata": {},
     "output_type": "execute_result"
    }
   ],
   "source": [
    "cons_disp = dec_complaints[\"Consumer disputed?\"].value_counts()\n",
    "cons_disp"
   ]
  },
  {
   "cell_type": "markdown",
   "metadata": {},
   "source": [
    "Of 11,543 complaints, 1932 of the company responses were disputed by the consumer."
   ]
  },
  {
   "cell_type": "code",
   "execution_count": 94,
   "metadata": {
    "collapsed": false
   },
   "outputs": [
    {
     "data": {
      "text/plain": [
       "Yes    11190\n",
       "No       353\n",
       "dtype: int64"
      ]
     },
     "execution_count": 94,
     "metadata": {},
     "output_type": "execute_result"
    }
   ],
   "source": [
    "timely_resp = dec_complaints[\"Timely response?\"].value_counts()\n",
    "timely_resp"
   ]
  },
  {
   "cell_type": "markdown",
   "metadata": {},
   "source": [
    "Of 11,543 complaints, 353 did not receive a timely response. Below are the worst offenders with regard to not giving a timely response."
   ]
  },
  {
   "cell_type": "code",
   "execution_count": 95,
   "metadata": {
    "collapsed": true
   },
   "outputs": [],
   "source": [
    "comp_late_resp = dec_complaints[dec_complaints[\"Timely response?\"] == \"No\"]"
   ]
  },
  {
   "cell_type": "code",
   "execution_count": 97,
   "metadata": {
    "collapsed": false
   },
   "outputs": [
    {
     "data": {
      "text/plain": [
       "Ocwen                                     25\n",
       "Residential Credit Solutions              12\n",
       "Premier Recovery Group                    11\n",
       "Google Inc.                               11\n",
       "Enhanced Acquisitions, LLC                10\n",
       "Mobiloans, LLC                             7\n",
       "Rash Curtis and Associates                 7\n",
       "Delray Capital, LLC                        7\n",
       "Rubin & Yates, LLC                         6\n",
       "Harvard Collections, LLC                   5\n",
       "Integrated Recovery Services               4\n",
       "First Financial Asset Management, Inc.     4\n",
       "Hillcrest Davidson & Assoc                 4\n",
       "NRA Group, LLC                             4\n",
       "LHR Inc.                                   4\n",
       "Lazarus Financial Group, Inc.              4\n",
       "Statebridge Company                        4\n",
       "JPMorgan Chase                             3\n",
       "Hunter Warfield, Inc.                      3\n",
       "Brennan & Clark, Ltd., LLC                 3\n",
       "dtype: int64"
      ]
     },
     "execution_count": 97,
     "metadata": {},
     "output_type": "execute_result"
    }
   ],
   "source": [
    "comp_late_resp[\"Company\"].value_counts().head(20)"
   ]
  },
  {
   "cell_type": "code",
   "execution_count": 98,
   "metadata": {
    "collapsed": false
   },
   "outputs": [
    {
     "data": {
      "text/plain": [
       "CA    1591\n",
       "TX    1099\n",
       "FL    1093\n",
       "NY     733\n",
       "GA     512\n",
       "NJ     465\n",
       "IL     427\n",
       "PA     418\n",
       "VA     373\n",
       "OH     348\n",
       "MD     342\n",
       "MI     287\n",
       "NC     287\n",
       "WA     231\n",
       "AZ     213\n",
       "MA     200\n",
       "TN     192\n",
       "CO     180\n",
       "NV     159\n",
       "AL     147\n",
       "WI     143\n",
       "MN     135\n",
       "IN     132\n",
       "SC     130\n",
       "LA     127\n",
       "OR     120\n",
       "MO     119\n",
       "CT     109\n",
       "OK      93\n",
       "DC      82\n",
       "UT      70\n",
       "AR      59\n",
       "KY      59\n",
       "MS      57\n",
       "KS      56\n",
       "NM      55\n",
       "IA      51\n",
       "HI      48\n",
       "NH      46\n",
       "DE      44\n",
       "RI      40\n",
       "ID      39\n",
       "ME      39\n",
       "NE      37\n",
       "PR      27\n",
       "WV      26\n",
       "SD      22\n",
       "VT      18\n",
       "AK      15\n",
       "MT      14\n",
       "WY       8\n",
       "ND       8\n",
       "VI       5\n",
       "AE       5\n",
       "AS       1\n",
       "AP       1\n",
       "dtype: int64"
      ]
     },
     "execution_count": 98,
     "metadata": {},
     "output_type": "execute_result"
    }
   ],
   "source": [
    "state_compl = dec_complaints[\"State\"].value_counts()\n",
    "state_compl"
   ]
  },
  {
   "cell_type": "code",
   "execution_count": null,
   "metadata": {
    "collapsed": true
   },
   "outputs": [],
   "source": []
  }
 ],
 "metadata": {
  "kernelspec": {
   "display_name": "Python 3",
   "language": "python",
   "name": "python3"
  },
  "language_info": {
   "codemirror_mode": {
    "name": "ipython",
    "version": 3
   },
   "file_extension": ".py",
   "mimetype": "text/x-python",
   "name": "python",
   "nbconvert_exporter": "python",
   "pygments_lexer": "ipython3",
   "version": "3.5.0"
  }
 },
 "nbformat": 4,
 "nbformat_minor": 0
}
